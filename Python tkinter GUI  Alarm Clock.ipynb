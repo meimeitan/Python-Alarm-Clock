{
 "cells": [
  {
   "cell_type": "markdown",
   "id": "a2a6eb45",
   "metadata": {},
   "source": [
    "## Project : Python tkinter GUI  Alarm Clock"
   ]
  },
  {
   "cell_type": "markdown",
   "id": "fe480a15",
   "metadata": {},
   "source": [
    "### Structure to build a GUI Alarm clock from tkinter :\n",
    "<font color = blue>\n",
    "1. Import all the required libraries and modules<br>\n",
    "2. Set up main event loop (time & sound) for the functions to be activated(alarm clock will automatically activated when the event is triggered).<br>\n",
    "3. Create a user input(GUI application) display window \n",
    "</font>"
   ]
  },
  {
   "cell_type": "markdown",
   "id": "d74116ca",
   "metadata": {},
   "source": [
    "#### Step 1 : Import all the required libraries and modules"
   ]
  },
  {
   "cell_type": "code",
   "execution_count": 2,
   "id": "055562e8",
   "metadata": {},
   "outputs": [],
   "source": [
    "from tkinter import *\n",
    "from datetime import datetime\n",
    "import time\n",
    "import winsound"
   ]
  },
  {
   "cell_type": "markdown",
   "id": "4d6c6ecd",
   "metadata": {},
   "source": [
    "Notes:\n",
    "- **tkinter** module is the standard GUI library for Python. When Python combined Tkinter will provide a fast and simple way in creating GUI application. Tkinter provides a powerful object-oriented interface to the Tk GUI toolkit.\n",
    "- **datetime** and **time** modules in python will be set as function for an event to be triggered.\n",
    "- **winsound** modules enable the access to the Windows platform's basic sound playing machinery. It is activated when the event set when a function is called.  "
   ]
  },
  {
   "cell_type": "markdown",
   "id": "1ad9a64b",
   "metadata": {},
   "source": [
    "#### Step 2: Set up event loop"
   ]
  },
  {
   "cell_type": "code",
   "execution_count": 3,
   "id": "7e4f2995",
   "metadata": {},
   "outputs": [],
   "source": [
    "def alarm(set_alarm):\n",
    "    while True:\n",
    "        time.sleep(1)\n",
    "        current_time = datetime.date.time.now()\n",
    "        now = current_time.strftime(\"%H:%M:%S\")\n",
    "        date = current_time.strftime(\"%d/%m/%Y\")\n",
    "        print(\"The Set Date is : \",date)\n",
    "        print(now)\n",
    "        if now == set_alarm:\n",
    "            print(\"Please WAKE UP!\")\n",
    "            winsound.PlaySound(\"sound.wav\", winsound.SND_ASYNC)\n",
    "            break\n",
    "            \n",
    "def actual_time():\n",
    "    set_alarm = f\"{hour.get()}:{min.get()}:{sec.get()}\"\n",
    "    alarm(set_alarm)\n",
    "    "
   ]
  },
  {
   "cell_type": "markdown",
   "id": "3f2051a8",
   "metadata": {},
   "source": [
    "Notes:\n",
    "- **alarm()** as a function was defined that take argument of **(set_alarm)**. It consists of a while loop with Boolean function as True to trigger the event automatically.\n",
    "- **time.sleep(1)** ceases the execution of further commands given unless time value has been input by the user , set in the command code to return the background thread of the clock time going on a regular interval.\n",
    "- **current_time** acquire the current time via the argument of **datetime.datetime.now()**.\n",
    "- **now** is set to print for the time and date for the current date via string conversion using **strftime()**.\n",
    "- **actual_time** which capture the input from user to set the alarm in string format. This is similar argument for the **(set_alarm)** as an alarm before execution in the event while loop which is further use in developing the GUI.\n",
    "- **Please WAKE UP!** will be printed when the **set_alarm** inout by user matches the while loop ongoing time.\n",
    "- **winsouns.SND_ASYNC** will be activated immediately to play the sound from the system when the function is called(event is triggered) as a reminder for the alarm clock. "
   ]
  },
  {
   "cell_type": "markdown",
   "id": "8bbd6e2a",
   "metadata": {},
   "source": [
    "#### Step 3: Create GUI from tkinter"
   ]
  },
  {
   "cell_type": "code",
   "execution_count": null,
   "id": "fb18a3b3",
   "metadata": {},
   "outputs": [],
   "source": [
    "mclock = Tk()\n",
    "\n",
    "mclock.title(\"MeiTan Alarm Clock\")\n",
    "mclock.geometry(\"600x400\")\n",
    "time_format = Label(mclock,text=\"Please set alarm in 24 hour format!\",fg=\"red\",bg=\"black\",font=(\"Arial\",16,\"bold\")).place(x=135, y=250)\n",
    "add_time = Label(mclock,text=\"Hour                 Min                 Sec\",font=80).place(x=190,y=120)\n",
    "set_your_alarm = Label(mclock,text=\"When to wake up?\",fg=\"blue\",bg=\"yellow\",relief=\"solid\",font=(\"Arial\",16,\"bold\")).place(x=190, y=30)\n",
    "\n",
    "# Variables used to initiate the alarm\n",
    "hour = StringVar()\n",
    "min = StringVar()\n",
    "sec = StringVar()\n",
    "\n",
    "# Time used to set the alarm clcok\n",
    "hour_time = Entry(mclock,textvariable=hour,bg=\"pink\",width=15).place(x=160,y=100)\n",
    "min_time = Entry(mclock,textvariable=min,bg=\"pink\",width=15).place(x=260,y=100)\n",
    "sec_time = Entry(mclock,textvariable=sec,bg=\"pink\",width=15).place(x=360,y=100)\n",
    "\n",
    "# Capture the input from user\n",
    "submit = Button(mclock, text=\"Set Alarm\",fg=\"red\",font=(\"arial\",16,\"bold\"),width=15,command=actual_time).place(x=190,y=180)\n",
    "\n",
    "# Execution for the window\n",
    "mclock.mainloop()"
   ]
  }
 ],
 "metadata": {
  "kernelspec": {
   "display_name": "Python 3",
   "language": "python",
   "name": "python3"
  }
 },
 "nbformat": 4,
 "nbformat_minor": 5
}
